{
 "cells": [
  {
   "cell_type": "code",
   "execution_count": 2,
   "id": "vietnamese-barcelona",
   "metadata": {},
   "outputs": [],
   "source": [
    "import pandas as pd\n",
    "import seaborn as sns\n",
    "import matplotlib.pyplot as plt"
   ]
  },
  {
   "cell_type": "markdown",
   "id": "funny-strand",
   "metadata": {},
   "source": [
    "# Rebalancing Data"
   ]
  },
  {
   "cell_type": "code",
   "execution_count": 16,
   "id": "intelligent-raise",
   "metadata": {},
   "outputs": [],
   "source": [
    "df = pd.read_csv('../data1/amazon_reviews_us_Outdoors_v1_00.csv.gz')"
   ]
  },
  {
   "cell_type": "code",
   "execution_count": 10,
   "id": "southeast-aquarium",
   "metadata": {},
   "outputs": [],
   "source": [
    "def to_sentiment(rating):\n",
    "    rating = int(rating)\n",
    "    if rating <= 2:\n",
    "        return 0\n",
    "    elif rating == 3:\n",
    "        return 1\n",
    "    else:\n",
    "        return 2"
   ]
  },
  {
   "cell_type": "code",
   "execution_count": 17,
   "id": "administrative-circumstances",
   "metadata": {},
   "outputs": [],
   "source": [
    "df['sentiment'] = df.star_rating.apply(to_sentiment)"
   ]
  },
  {
   "cell_type": "code",
   "execution_count": 13,
   "id": "essential-duration",
   "metadata": {},
   "outputs": [
    {
     "data": {
      "text/plain": [
       "(270367, 178919, 1850715)"
      ]
     },
     "execution_count": 13,
     "metadata": {},
     "output_type": "execute_result"
    }
   ],
   "source": [
    "len(df[df.sentiment == 0]), len(df[df.sentiment == 1]), len(df[df.sentiment == 2])"
   ]
  },
  {
   "cell_type": "code",
   "execution_count": 20,
   "id": "instructional-yugoslavia",
   "metadata": {},
   "outputs": [],
   "source": [
    "positive_samples_index = df[df.sentiment == 2].sample(n=275000).index"
   ]
  },
  {
   "cell_type": "code",
   "execution_count": 22,
   "id": "existing-recognition",
   "metadata": {},
   "outputs": [
    {
     "data": {
      "text/plain": [
       "Int64Index([1131626, 1456539, 2093745,  779999, 2005103,  362590,  739301,\n",
       "            2141891, 1680561,  110615,\n",
       "            ...\n",
       "            1487008,  764409, 1616829, 1139189,  963602, 1001202,  653663,\n",
       "            1051786, 1064234,  702877],\n",
       "           dtype='int64', length=275000)"
      ]
     },
     "execution_count": 22,
     "metadata": {},
     "output_type": "execute_result"
    }
   ],
   "source": [
    "positive_samples_index"
   ]
  },
  {
   "cell_type": "code",
   "execution_count": 24,
   "id": "logical-hotel",
   "metadata": {},
   "outputs": [],
   "source": [
    "negative_indices = df[df.sentiment == 0].index\n",
    "neutral_indices = df[df.sentiment == 1].index"
   ]
  },
  {
   "cell_type": "code",
   "execution_count": 31,
   "id": "armed-dispatch",
   "metadata": {},
   "outputs": [],
   "source": [
    "df_balanced = df.iloc[list(positive_samples_index) + list(negative_indices) + list(neutral_indices)]"
   ]
  },
  {
   "cell_type": "code",
   "execution_count": 32,
   "id": "affected-error",
   "metadata": {},
   "outputs": [
    {
     "name": "stderr",
     "output_type": "stream",
     "text": [
      "C:\\Users\\suraj\\Miniconda3\\envs\\NLP\\lib\\site-packages\\seaborn\\_decorators.py:43: FutureWarning: Pass the following variable as a keyword arg: x. From version 0.12, the only valid positional argument will be `data`, and passing other arguments without an explicit keyword will result in an error or misinterpretation.\n",
      "  FutureWarning\n"
     ]
    },
    {
     "data": {
      "image/png": "[encoded data removed]",
      "text/plain": [
       "<Figure size 432x288 with 1 Axes>"
      ]
     },
     "metadata": {
      "needs_background": "light"
     },
     "output_type": "display_data"
    }
   ],
   "source": [
    "sns.countplot(df_balanced.sentiment)\n",
    "plt.show()"
   ]
  },
  {
   "cell_type": "code",
   "execution_count": 33,
   "id": "reverse-consequence",
   "metadata": {},
   "outputs": [],
   "source": [
    "df_balanced.to_csv('data/amazon_outdoors/amazon_reviews_us_Outdoors_v1_00_rebalanced.csv.gz', index=False)"
   ]
  },
  {
   "cell_type": "markdown",
   "id": "aggregate-image",
   "metadata": {},
   "source": [
    "# EDA"
   ]
  },
  {
   "cell_type": "markdown",
   "id": "blessed-malta",
   "metadata": {},
   "source": [
    "## Analyse token lengths"
   ]
  },
  {
   "cell_type": "code",
   "execution_count": 3,
   "id": "potential-gossip",
   "metadata": {},
   "outputs": [],
   "source": [
    "reviews = pd.read_csv('../data/amazon_outdoors/amazon_reviews_us_Outdoors_v1_00_rebalanced.csv.gz', usecols=['review_body'])"
   ]
  },
  {
   "cell_type": "code",
   "execution_count": 16,
   "id": "initial-pointer",
   "metadata": {},
   "outputs": [
    {
     "name": "stdout",
     "output_type": "stream",
     "text": [
      "So far 3 semesters and it's still holding its own and looking brand new. Lots of room and super sturdy.\n"
     ]
    }
   ],
   "source": [
    "for txt in reviews.review_body:\n",
    "    print(txt)\n",
    "    break"
   ]
  },
  {
   "cell_type": "code",
   "execution_count": 17,
   "id": "parallel-emperor",
   "metadata": {},
   "outputs": [],
   "source": [
    "from transformers import BertTokenizer"
   ]
  },
  {
   "cell_type": "code",
   "execution_count": 18,
   "id": "fatal-pearl",
   "metadata": {},
   "outputs": [],
   "source": [
    "tokenizer = BertTokenizer.from_pretrained('bert-base-cased')"
   ]
  },
  {
   "cell_type": "code",
   "execution_count": 22,
   "id": "individual-project",
   "metadata": {},
   "outputs": [],
   "source": [
    "reviews[reviews.isna()] = \"\""
   ]
  },
  {
   "cell_type": "code",
   "execution_count": null,
   "id": "adjusted-thesis",
   "metadata": {},
   "outputs": [],
   "source": [
    "token_lens = []\n",
    "for txt in reviews.review_body:\n",
    "    tokens = tokenizer.encode(txt, max_length=512, truncation=True)\n",
    "    token_lens.append(len(tokens))"
   ]
  },
  {
   "cell_type": "code",
   "execution_count": 27,
   "id": "silent-following",
   "metadata": {},
   "outputs": [
    {
     "name": "stderr",
     "output_type": "stream",
     "text": [
      "C:\\Users\\suraj\\Miniconda3\\envs\\NLP\\lib\\site-packages\\seaborn\\distributions.py:2557: FutureWarning: `distplot` is a deprecated function and will be removed in a future version. Please adapt your code to use either `displot` (a figure-level function with similar flexibility) or `histplot` (an axes-level function for histograms).\n",
      "  warnings.warn(msg, FutureWarning)\n"
     ]
    },
    {
     "data": {
      "image/png": "[encoded data removed]",
      "text/plain": [
       "<Figure size 432x288 with 1 Axes>"
      ]
     },
     "metadata": {
      "needs_background": "light"
     },
     "output_type": "display_data"
    }
   ],
   "source": [
    "sns.distplot(token_lens)\n",
    "plt.xlabel('Token count');"
   ]
  },
  {
   "cell_type": "markdown",
   "id": "breeding-pottery",
   "metadata": {},
   "source": [
    "# Remove NAs"
   ]
  },
  {
   "cell_type": "code",
   "execution_count": 6,
   "id": "absent-lambda",
   "metadata": {},
   "outputs": [],
   "source": [
    "reviews = pd.read_csv('../data/amazon_outdoors/amazon_reviews_us_Outdoors_v1_00_rebalanced.csv.gz')"
   ]
  },
  {
   "cell_type": "code",
   "execution_count": 7,
   "id": "focal-benefit",
   "metadata": {},
   "outputs": [
    {
     "data": {
      "text/plain": [
       "marketplace           0\n",
       "customer_id           0\n",
       "review_id             0\n",
       "product_id            0\n",
       "product_parent        0\n",
       "product_title         0\n",
       "product_category      0\n",
       "star_rating           0\n",
       "helpful_votes         0\n",
       "total_votes           0\n",
       "vine                  0\n",
       "verified_purchase     0\n",
       "review_headline       1\n",
       "review_body          49\n",
       "review_date           0\n",
       "sentiment             0\n",
       "dtype: int64"
      ]
     },
     "execution_count": 7,
     "metadata": {},
     "output_type": "execute_result"
    }
   ],
   "source": [
    "reviews.isna().sum()"
   ]
  },
  {
   "cell_type": "code",
   "execution_count": 16,
   "id": "duplicate-truck",
   "metadata": {},
   "outputs": [],
   "source": [
    "reviews[reviews.review_body.notnull()].to_csv('../data/amazon_outdoors/amazon_reviews_us_Outdoors_v1_00_rebalanced.csv.gz', index=False)"
   ]
  },
  {
   "cell_type": "code",
   "execution_count": null,
   "id": "valid-military",
   "metadata": {},
   "outputs": [],
   "source": []
  }
 ],
 "metadata": {
  "kernelspec": {
   "display_name": "NLP",
   "language": "python",
   "name": "nlp"
  },
  "language_info": {
   "codemirror_mode": {
    "name": "ipython",
    "version": 3
   },
   "file_extension": ".py",
   "mimetype": "text/x-python",
   "name": "python",
   "nbconvert_exporter": "python",
   "pygments_lexer": "ipython3",
   "version": "3.7.9"
  }
 },
 "nbformat": 4,
 "nbformat_minor": 5
}
